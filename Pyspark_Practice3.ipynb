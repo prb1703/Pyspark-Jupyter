{
 "cells": [
  {
   "cell_type": "code",
   "execution_count": 1,
   "id": "6cef91ef",
   "metadata": {},
   "outputs": [],
   "source": [
    "from pyspark.sql import SparkSession"
   ]
  },
  {
   "cell_type": "code",
   "execution_count": 2,
   "id": "42173ce6",
   "metadata": {},
   "outputs": [],
   "source": [
    "spark=SparkSession.builder.appName('Practice3').getOrCreate()"
   ]
  },
  {
   "cell_type": "code",
   "execution_count": 3,
   "id": "36a2cfb9",
   "metadata": {},
   "outputs": [
    {
     "data": {
      "text/html": [
       "\n",
       "            <div>\n",
       "                <p><b>SparkSession - in-memory</b></p>\n",
       "                \n",
       "        <div>\n",
       "            <p><b>SparkContext</b></p>\n",
       "\n",
       "            <p><a href=\"http://Parth-ThinkPad:4042\">Spark UI</a></p>\n",
       "\n",
       "            <dl>\n",
       "              <dt>Version</dt>\n",
       "                <dd><code>v3.3.0</code></dd>\n",
       "              <dt>Master</dt>\n",
       "                <dd><code>local[*]</code></dd>\n",
       "              <dt>AppName</dt>\n",
       "                <dd><code>Practice3</code></dd>\n",
       "            </dl>\n",
       "        </div>\n",
       "        \n",
       "            </div>\n",
       "        "
      ],
      "text/plain": [
       "<pyspark.sql.session.SparkSession at 0x2b551a61580>"
      ]
     },
     "execution_count": 3,
     "metadata": {},
     "output_type": "execute_result"
    }
   ],
   "source": [
    "spark"
   ]
  },
  {
   "cell_type": "code",
   "execution_count": 6,
   "id": "30a1ab56",
   "metadata": {},
   "outputs": [],
   "source": [
    "df_pyspark=spark.read.csv('data.csv', header=True,inferSchema=True)"
   ]
  },
  {
   "cell_type": "code",
   "execution_count": 7,
   "id": "8e88bd66",
   "metadata": {},
   "outputs": [
    {
     "name": "stdout",
     "output_type": "stream",
     "text": [
      "+------+----+----------+------+\n",
      "|  Name| Age|Experience|Salary|\n",
      "+------+----+----------+------+\n",
      "|Trevor|  29|         3| 20000|\n",
      "|  Adam|  40|         5| 30000|\n",
      "|   Eve|  34|        20|100000|\n",
      "|   Max|  23|         6| 70000|\n",
      "|   Joe|  34|         3| 18000|\n",
      "|   Bob|null|      null|  null|\n",
      "|   Rob|  54|        12|  null|\n",
      "|  null|  45|        13| 60000|\n",
      "+------+----+----------+------+\n",
      "\n"
     ]
    }
   ],
   "source": [
    "df_pyspark.show()"
   ]
  },
  {
   "cell_type": "code",
   "execution_count": 8,
   "id": "676925f1",
   "metadata": {},
   "outputs": [
    {
     "name": "stdout",
     "output_type": "stream",
     "text": [
      "+------+---+----------+------+\n",
      "|  Name|Age|Experience|Salary|\n",
      "+------+---+----------+------+\n",
      "|Trevor| 29|         3| 20000|\n",
      "|  Adam| 40|         5| 30000|\n",
      "|   Eve| 34|        20|100000|\n",
      "|   Max| 23|         6| 70000|\n",
      "|   Joe| 34|         3| 18000|\n",
      "+------+---+----------+------+\n",
      "\n"
     ]
    }
   ],
   "source": [
    "## remove all null values rows\n",
    "df_pyspark.na.drop().show()"
   ]
  },
  {
   "cell_type": "code",
   "execution_count": 9,
   "id": "b21c8768",
   "metadata": {},
   "outputs": [
    {
     "name": "stdout",
     "output_type": "stream",
     "text": [
      "+------+----+----------+------+\n",
      "|  Name| Age|Experience|Salary|\n",
      "+------+----+----------+------+\n",
      "|Trevor|  29|         3| 20000|\n",
      "|  Adam|  40|         5| 30000|\n",
      "|   Eve|  34|        20|100000|\n",
      "|   Max|  23|         6| 70000|\n",
      "|   Joe|  34|         3| 18000|\n",
      "|   Bob|null|      null|  null|\n",
      "|   Rob|  54|        12|  null|\n",
      "|  null|  45|        13| 60000|\n",
      "+------+----+----------+------+\n",
      "\n"
     ]
    }
   ],
   "source": [
    "### drop - > how=all\n",
    "df_pyspark.na.drop(how=\"all\").show()"
   ]
  },
  {
   "cell_type": "code",
   "execution_count": 10,
   "id": "ebd2dec4",
   "metadata": {},
   "outputs": [
    {
     "name": "stdout",
     "output_type": "stream",
     "text": [
      "+------+---+----------+------+\n",
      "|  Name|Age|Experience|Salary|\n",
      "+------+---+----------+------+\n",
      "|Trevor| 29|         3| 20000|\n",
      "|  Adam| 40|         5| 30000|\n",
      "|   Eve| 34|        20|100000|\n",
      "|   Max| 23|         6| 70000|\n",
      "|   Joe| 34|         3| 18000|\n",
      "+------+---+----------+------+\n",
      "\n"
     ]
    }
   ],
   "source": [
    "### drop - > how=any is default\n",
    "df_pyspark.na.drop(how=\"any\").show()"
   ]
  },
  {
   "cell_type": "code",
   "execution_count": 11,
   "id": "22e54d84",
   "metadata": {},
   "outputs": [
    {
     "name": "stdout",
     "output_type": "stream",
     "text": [
      "+------+---+----------+------+\n",
      "|  Name|Age|Experience|Salary|\n",
      "+------+---+----------+------+\n",
      "|Trevor| 29|         3| 20000|\n",
      "|  Adam| 40|         5| 30000|\n",
      "|   Eve| 34|        20|100000|\n",
      "|   Max| 23|         6| 70000|\n",
      "|   Joe| 34|         3| 18000|\n",
      "|   Rob| 54|        12|  null|\n",
      "|  null| 45|        13| 60000|\n",
      "+------+---+----------+------+\n",
      "\n"
     ]
    }
   ],
   "source": [
    "### drop - > how=any, thres =2\n",
    "df_pyspark.na.drop(how=\"all\",thresh=2).show()"
   ]
  },
  {
   "cell_type": "code",
   "execution_count": 13,
   "id": "f47900c1",
   "metadata": {},
   "outputs": [
    {
     "name": "stdout",
     "output_type": "stream",
     "text": [
      "+------+----+----------+------+\n",
      "|  Name| Age|Experience|Salary|\n",
      "+------+----+----------+------+\n",
      "|Trevor|  29|         3| 20000|\n",
      "|  Adam|  40|         5| 30000|\n",
      "|   Eve|  34|        20|100000|\n",
      "|   Max|  23|         6| 70000|\n",
      "|   Joe|  34|         3| 18000|\n",
      "|   Bob|null|      null|  null|\n",
      "|   Rob|  54|        12|  null|\n",
      "|  null|  45|        13| 60000|\n",
      "+------+----+----------+------+\n",
      "\n"
     ]
    }
   ],
   "source": [
    "### drop - > how=any, thres =3\n",
    "df_pyspark.na.drop(how=\"all\",thresh=1).show()"
   ]
  },
  {
   "cell_type": "code",
   "execution_count": 16,
   "id": "a0af84ff",
   "metadata": {},
   "outputs": [
    {
     "name": "stdout",
     "output_type": "stream",
     "text": [
      "+------+---+----------+------+\n",
      "|  Name|Age|Experience|Salary|\n",
      "+------+---+----------+------+\n",
      "|Trevor| 29|         3| 20000|\n",
      "|  Adam| 40|         5| 30000|\n",
      "|   Eve| 34|        20|100000|\n",
      "|   Max| 23|         6| 70000|\n",
      "|   Joe| 34|         3| 18000|\n",
      "|   Rob| 54|        12|  null|\n",
      "|  null| 45|        13| 60000|\n",
      "+------+---+----------+------+\n",
      "\n"
     ]
    }
   ],
   "source": [
    "### drop - > how=any,subset\n",
    "df_pyspark.na.drop(how=\"all\",subset=['Age']).show()"
   ]
  },
  {
   "cell_type": "code",
   "execution_count": 27,
   "id": "99da508c",
   "metadata": {},
   "outputs": [
    {
     "name": "stdout",
     "output_type": "stream",
     "text": [
      "+------+-------+----------+------+\n",
      "|  Name|    Age|Experience|Salary|\n",
      "+------+-------+----------+------+\n",
      "|Trevor|     29|         3| 20000|\n",
      "|  Adam|     40|         5| 30000|\n",
      "|   Eve|     34|        20|100000|\n",
      "|   Max|     23|         6| 70000|\n",
      "|   Joe|     34|         3| 18000|\n",
      "|   Bob|1000000|   1000000|  null|\n",
      "|   Rob|     54|        12|  null|\n",
      "|  null|     45|        13| 60000|\n",
      "+------+-------+----------+------+\n",
      "\n"
     ]
    }
   ],
   "source": [
    "### Fill the missing value\n",
    "df_pyspark.na.fill(1000000,['Experience','Age']).show()"
   ]
  },
  {
   "cell_type": "code",
   "execution_count": 28,
   "id": "05be86c4",
   "metadata": {},
   "outputs": [
    {
     "name": "stdout",
     "output_type": "stream",
     "text": [
      "+------+----+----------+------+\n",
      "|  Name| Age|Experience|Salary|\n",
      "+------+----+----------+------+\n",
      "|Trevor|  29|         3| 20000|\n",
      "|  Adam|  40|         5| 30000|\n",
      "|   Eve|  34|        20|100000|\n",
      "|   Max|  23|         6| 70000|\n",
      "|   Joe|  34|         3| 18000|\n",
      "|   Bob|null|      null|  null|\n",
      "|   Rob|  54|        12|  null|\n",
      "|  null|  45|        13| 60000|\n",
      "+------+----+----------+------+\n",
      "\n"
     ]
    }
   ],
   "source": [
    "df_pyspark.show()"
   ]
  },
  {
   "cell_type": "code",
   "execution_count": 29,
   "id": "60844079",
   "metadata": {},
   "outputs": [],
   "source": [
    "from pyspark.ml.feature import Imputer\n",
    "\n",
    "imputer=Imputer(\n",
    "    inputCols = ['Age','Experience','Salary'],\n",
    "    outputCols = [\"{}_imputer\".format(c) for c in ['Age','Experience','Salary']]\n",
    ").setStrategy(\"mean\")"
   ]
  },
  {
   "cell_type": "code",
   "execution_count": 30,
   "id": "56089f20",
   "metadata": {},
   "outputs": [
    {
     "name": "stdout",
     "output_type": "stream",
     "text": [
      "+------+----+----------+------+-----------+------------------+--------------+\n",
      "|  Name| Age|Experience|Salary|Age_imputer|Experience_imputer|Salary_imputer|\n",
      "+------+----+----------+------+-----------+------------------+--------------+\n",
      "|Trevor|  29|         3| 20000|         29|                 3|         20000|\n",
      "|  Adam|  40|         5| 30000|         40|                 5|         30000|\n",
      "|   Eve|  34|        20|100000|         34|                20|        100000|\n",
      "|   Max|  23|         6| 70000|         23|                 6|         70000|\n",
      "|   Joe|  34|         3| 18000|         34|                 3|         18000|\n",
      "|   Bob|null|      null|  null|         37|                 8|         49666|\n",
      "|   Rob|  54|        12|  null|         54|                12|         49666|\n",
      "|  null|  45|        13| 60000|         45|                13|         60000|\n",
      "+------+----+----------+------+-----------+------------------+--------------+\n",
      "\n"
     ]
    }
   ],
   "source": [
    "# add imputatiion cols to df\n",
    "imputer.fit(df_pyspark).transform(df_pyspark).show()"
   ]
  }
 ],
 "metadata": {
  "kernelspec": {
   "display_name": "Python 3",
   "language": "python",
   "name": "python3"
  },
  "language_info": {
   "codemirror_mode": {
    "name": "ipython",
    "version": 3
   },
   "file_extension": ".py",
   "mimetype": "text/x-python",
   "name": "python",
   "nbconvert_exporter": "python",
   "pygments_lexer": "ipython3",
   "version": "3.9.12"
  }
 },
 "nbformat": 4,
 "nbformat_minor": 5
}
