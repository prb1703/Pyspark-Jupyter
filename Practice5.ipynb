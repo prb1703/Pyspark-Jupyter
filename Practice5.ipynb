{
 "cells": [
  {
   "cell_type": "markdown",
   "id": "39874937",
   "metadata": {},
   "source": [
    "## Pyspark GroupBy and Aggregate Functions"
   ]
  },
  {
   "cell_type": "code",
   "execution_count": 1,
   "id": "adfde59a",
   "metadata": {},
   "outputs": [],
   "source": [
    "from pyspark.sql import SparkSession"
   ]
  },
  {
   "cell_type": "code",
   "execution_count": 2,
   "id": "2063c294",
   "metadata": {},
   "outputs": [],
   "source": [
    "spark=SparkSession.builder.appName('Practice5').getOrCreate()"
   ]
  },
  {
   "cell_type": "code",
   "execution_count": 3,
   "id": "88d7d1c5",
   "metadata": {},
   "outputs": [
    {
     "data": {
      "text/html": [
       "\n",
       "            <div>\n",
       "                <p><b>SparkSession - in-memory</b></p>\n",
       "                \n",
       "        <div>\n",
       "            <p><b>SparkContext</b></p>\n",
       "\n",
       "            <p><a href=\"http://Parth-ThinkPad:4044\">Spark UI</a></p>\n",
       "\n",
       "            <dl>\n",
       "              <dt>Version</dt>\n",
       "                <dd><code>v3.3.0</code></dd>\n",
       "              <dt>Master</dt>\n",
       "                <dd><code>local[*]</code></dd>\n",
       "              <dt>AppName</dt>\n",
       "                <dd><code>Practice5</code></dd>\n",
       "            </dl>\n",
       "        </div>\n",
       "        \n",
       "            </div>\n",
       "        "
      ],
      "text/plain": [
       "<pyspark.sql.session.SparkSession at 0x20e4ea41490>"
      ]
     },
     "execution_count": 3,
     "metadata": {},
     "output_type": "execute_result"
    }
   ],
   "source": [
    "spark"
   ]
  },
  {
   "cell_type": "code",
   "execution_count": 11,
   "id": "ead483ed",
   "metadata": {},
   "outputs": [],
   "source": [
    "df_pyspark = spark.read.csv('data.csv', header=True, inferSchema=True)"
   ]
  },
  {
   "cell_type": "code",
   "execution_count": 12,
   "id": "b8346bed",
   "metadata": {},
   "outputs": [
    {
     "name": "stdout",
     "output_type": "stream",
     "text": [
      "+------+----+----------+------+------------+\n",
      "|  Name| Age|Experience|Salary|  Department|\n",
      "+------+----+----------+------+------------+\n",
      "|Trevor|  29|         3| 20000|         IOT|\n",
      "|  Adam|  40|         5| 30000|Data Science|\n",
      "|   Eve|  34|        20|100000|    Big Data|\n",
      "|   Max|  23|         6| 70000|    Big Data|\n",
      "|   Joe|  34|         3| 18000|Data Science|\n",
      "|   Bob|null|      null|  null|         IOT|\n",
      "|   Rob|  54|        12|  null|    Big Data|\n",
      "|   Rob|  45|        13| 60000|         IOT|\n",
      "|Trevor|  29|         3| 20000|         IOT|\n",
      "|   Eve|  34|        20|100000|Data Science|\n",
      "+------+----+----------+------+------------+\n",
      "\n"
     ]
    }
   ],
   "source": [
    "df_pyspark.show()"
   ]
  },
  {
   "cell_type": "code",
   "execution_count": 13,
   "id": "b35e64ba",
   "metadata": {},
   "outputs": [
    {
     "data": {
      "text/plain": [
       "<pyspark.sql.group.GroupedData at 0x20e4ea41fa0>"
      ]
     },
     "execution_count": 13,
     "metadata": {},
     "output_type": "execute_result"
    }
   ],
   "source": [
    "## GroupBy\n",
    "df_pyspark.groupBy('Name')"
   ]
  },
  {
   "cell_type": "code",
   "execution_count": 14,
   "id": "9149d1e6",
   "metadata": {},
   "outputs": [
    {
     "data": {
      "text/plain": [
       "DataFrame[Name: string, sum(Age): bigint, sum(Experience): bigint, sum(Salary): bigint]"
      ]
     },
     "execution_count": 14,
     "metadata": {},
     "output_type": "execute_result"
    }
   ],
   "source": [
    "df_pyspark.groupBy('Name').sum()"
   ]
  },
  {
   "cell_type": "code",
   "execution_count": 15,
   "id": "5ba42bfe",
   "metadata": {},
   "outputs": [
    {
     "name": "stdout",
     "output_type": "stream",
     "text": [
      "+------+--------+---------------+-----------+\n",
      "|  Name|sum(Age)|sum(Experience)|sum(Salary)|\n",
      "+------+--------+---------------+-----------+\n",
      "|Trevor|      58|              6|      40000|\n",
      "|   Joe|      34|              3|      18000|\n",
      "|   Bob|    null|           null|       null|\n",
      "|  Adam|      40|              5|      30000|\n",
      "|   Eve|      68|             40|     200000|\n",
      "|   Rob|      99|             25|      60000|\n",
      "|   Max|      23|              6|      70000|\n",
      "+------+--------+---------------+-----------+\n",
      "\n"
     ]
    }
   ],
   "source": [
    "df_pyspark.groupBy('Name').sum().show()"
   ]
  },
  {
   "cell_type": "code",
   "execution_count": 16,
   "id": "dcf2eb35",
   "metadata": {},
   "outputs": [
    {
     "name": "stdout",
     "output_type": "stream",
     "text": [
      "+------------+--------+---------------+-----------+\n",
      "|  Department|sum(Age)|sum(Experience)|sum(Salary)|\n",
      "+------------+--------+---------------+-----------+\n",
      "|         IOT|     103|             19|     100000|\n",
      "|    Big Data|     111|             38|     170000|\n",
      "|Data Science|     108|             28|     148000|\n",
      "+------------+--------+---------------+-----------+\n",
      "\n"
     ]
    }
   ],
   "source": [
    "df_pyspark.groupBy('Department').sum().show()"
   ]
  },
  {
   "cell_type": "code",
   "execution_count": 17,
   "id": "628d51c2",
   "metadata": {},
   "outputs": [
    {
     "name": "stdout",
     "output_type": "stream",
     "text": [
      "+------------+------------------+------------------+------------------+\n",
      "|  Department|          avg(Age)|   avg(Experience)|       avg(Salary)|\n",
      "+------------+------------------+------------------+------------------+\n",
      "|         IOT|34.333333333333336| 6.333333333333333|33333.333333333336|\n",
      "|    Big Data|              37.0|12.666666666666666|           85000.0|\n",
      "|Data Science|              36.0| 9.333333333333334|49333.333333333336|\n",
      "+------------+------------------+------------------+------------------+\n",
      "\n"
     ]
    }
   ],
   "source": [
    "df_pyspark.groupBy('Department').mean().show()"
   ]
  },
  {
   "cell_type": "code",
   "execution_count": 18,
   "id": "3ad20c71",
   "metadata": {},
   "outputs": [
    {
     "name": "stdout",
     "output_type": "stream",
     "text": [
      "+------------+-----+\n",
      "|  Department|count|\n",
      "+------------+-----+\n",
      "|         IOT|    4|\n",
      "|    Big Data|    3|\n",
      "|Data Science|    3|\n",
      "+------------+-----+\n",
      "\n"
     ]
    }
   ],
   "source": [
    "df_pyspark.groupBy('Department').count().show()"
   ]
  },
  {
   "cell_type": "code",
   "execution_count": 19,
   "id": "87e8f3d0",
   "metadata": {},
   "outputs": [
    {
     "name": "stdout",
     "output_type": "stream",
     "text": [
      "+-----------+\n",
      "|sum(Salary)|\n",
      "+-----------+\n",
      "|     418000|\n",
      "+-----------+\n",
      "\n"
     ]
    }
   ],
   "source": [
    "df_pyspark.agg({'Salary': 'sum'}).show()"
   ]
  },
  {
   "cell_type": "code",
   "execution_count": 20,
   "id": "4a4261d6",
   "metadata": {},
   "outputs": [
    {
     "name": "stdout",
     "output_type": "stream",
     "text": [
      "+------+--------+---------------+-----------+\n",
      "|  Name|max(Age)|max(Experience)|max(Salary)|\n",
      "+------+--------+---------------+-----------+\n",
      "|Trevor|      29|              3|      20000|\n",
      "|   Joe|      34|              3|      18000|\n",
      "|   Bob|    null|           null|       null|\n",
      "|  Adam|      40|              5|      30000|\n",
      "|   Eve|      34|             20|     100000|\n",
      "|   Rob|      54|             13|      60000|\n",
      "|   Max|      23|              6|      70000|\n",
      "+------+--------+---------------+-----------+\n",
      "\n"
     ]
    }
   ],
   "source": [
    "df_pyspark.groupBy('Name').max().show()"
   ]
  },
  {
   "cell_type": "code",
   "execution_count": 21,
   "id": "c7873c0e",
   "metadata": {},
   "outputs": [
    {
     "name": "stdout",
     "output_type": "stream",
     "text": [
      "+------------+------------------+------------------+------------------+\n",
      "|  Department|          avg(Age)|   avg(Experience)|       avg(Salary)|\n",
      "+------------+------------------+------------------+------------------+\n",
      "|         IOT|34.333333333333336| 6.333333333333333|33333.333333333336|\n",
      "|    Big Data|              37.0|12.666666666666666|           85000.0|\n",
      "|Data Science|              36.0| 9.333333333333334|49333.333333333336|\n",
      "+------------+------------------+------------------+------------------+\n",
      "\n"
     ]
    }
   ],
   "source": [
    "df_pyspark.groupBy('Department').avg().show()"
   ]
  }
 ],
 "metadata": {
  "kernelspec": {
   "display_name": "Python 3",
   "language": "python",
   "name": "python3"
  },
  "language_info": {
   "codemirror_mode": {
    "name": "ipython",
    "version": 3
   },
   "file_extension": ".py",
   "mimetype": "text/x-python",
   "name": "python",
   "nbconvert_exporter": "python",
   "pygments_lexer": "ipython3",
   "version": "3.9.12"
  }
 },
 "nbformat": 4,
 "nbformat_minor": 5
}
